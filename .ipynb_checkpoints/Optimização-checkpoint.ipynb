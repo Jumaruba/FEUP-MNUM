{
 "cells": [
  {
   "cell_type": "code",
   "execution_count": 2,
   "metadata": {},
   "outputs": [],
   "source": [
    "#Este é um documento que contem a revisão dos algoritmos dados em sala de aula \n",
    "import math as m "
   ]
  },
  {
   "cell_type": "code",
   "execution_count": 6,
   "metadata": {},
   "outputs": [],
   "source": [
    "#Metodo da secção áurea\n",
    "def f_aurea(x): \n",
    "    return (2*x+1)**2-5*m.cos(10*x)\n",
    "def aurea(x1,x2):\n",
    "    b = (m.sqrt(5)-1)/2\n",
    "    a = b*b\n",
    "    for i in range(30): \n",
    "        x3 = x1 + a*(x2-x1)\n",
    "        x4 = x1 + b*(x2-x1) \n",
    "        if f_aurea(x3) > f_aurea(x4):\n",
    "            x1 = x3 \n",
    "            x3 = x4\n",
    "        else: \n",
    "            x2 = x4\n",
    "            x4 = x3 \n",
    "    return [x1,x2,x3,x4]"
   ]
  },
  {
   "cell_type": "code",
   "execution_count": 7,
   "metadata": {},
   "outputs": [
    {
     "name": "stdout",
     "output_type": "stream",
     "text": [
      "[-0.6262978964093815, -0.6262973589188816, -0.6262976911062791, -0.6262976911062791]\n"
     ]
    }
   ],
   "source": [
    "#Chamando a secção áurea: \n",
    "resposta = aurea(-1,0)\n",
    "print(resposta)"
   ]
  },
  {
   "cell_type": "code",
   "execution_count": 38,
   "metadata": {},
   "outputs": [],
   "source": [
    "#Metodo do grandiente\n",
    "def f_grad(x,y):\n",
    "    return y*y - 2*x*y - 6*y + 2*x*x + 12\n",
    "def dfx_grad(x,y):\n",
    "    return -2*y + 4*x\n",
    "def dfy_grad(x,y): \n",
    "    return 2*y - 2*x - 6\n",
    "\n",
    "def gradiente(h,x,y): \n",
    "    for i in range(60): \n",
    "        xn = x - h*dfx_grad(x,y) \n",
    "        yn = y - h*dfy_grad(x,y) \n",
    "        if f_grad(xn,yn) < f_grad(x,y):\n",
    "            h*=2\n",
    "            y = yn\n",
    "            x = xn \n",
    "        else: \n",
    "            h/=2 \n",
    "    return [x,y]"
   ]
  },
  {
   "cell_type": "code",
   "execution_count": 39,
   "metadata": {},
   "outputs": [
    {
     "name": "stdout",
     "output_type": "stream",
     "text": [
      "[2.99981689453125, 5.9998779296875]\n"
     ]
    }
   ],
   "source": [
    "#Chamando o metodo do gradiente: \n",
    "print(gradiente(1,1,1))"
   ]
  },
  {
   "cell_type": "code",
   "execution_count": 53,
   "metadata": {},
   "outputs": [],
   "source": [
    "#Metodo da quádrica\n",
    "def f(x,y): \n",
    "    return m.sin(y) + y*y/4 + m.cos(x) + x*x/4 - 1 \n",
    "def dfx(x,y): \n",
    "    return x/2 - m.sin(x)\n",
    "def dfxx(x,y): \n",
    "    return 1/2 - m.cos(x)\n",
    "def dfxy(x,y): \n",
    "    return 0 \n",
    "def dfy(x,y): \n",
    "    return m.cos(y) + y/2 \n",
    "def dfyy(x,y): \n",
    "    return 1/2 - m.sin(y) \n",
    "def dfyx(x,y):\n",
    "    return 0 \n",
    "\n",
    "def quadrica(x,y): \n",
    "    for i in range(30): \n",
    "        det = dfxx(x,y)*dfyy(x,y) - dfxy(x,y)*dfyx(x,y)\n",
    "        xn = x - (dfyy(x,y)*dfx(x,y) - dfxy(x,y)*dfy(x,y))/det \n",
    "        yn = y - (-dfyx(x,y)*dfx(x,y) + dfxx(x,y)*dfy(x,y))/det \n",
    "        x = xn \n",
    "        y = yn \n",
    "    return [x,y] "
   ]
  },
  {
   "cell_type": "code",
   "execution_count": 54,
   "metadata": {},
   "outputs": [
    {
     "name": "stdout",
     "output_type": "stream",
     "text": [
      "[0.0, -1.0298665293222589]\n"
     ]
    }
   ],
   "source": [
    "print(quadrica(0,0))"
   ]
  },
  {
   "cell_type": "code",
   "execution_count": null,
   "metadata": {},
   "outputs": [],
   "source": []
  }
 ],
 "metadata": {
  "kernelspec": {
   "display_name": "Python 3",
   "language": "python",
   "name": "python3"
  },
  "language_info": {
   "codemirror_mode": {
    "name": "ipython",
    "version": 3
   },
   "file_extension": ".py",
   "mimetype": "text/x-python",
   "name": "python",
   "nbconvert_exporter": "python",
   "pygments_lexer": "ipython3",
   "version": "3.7.4"
  }
 },
 "nbformat": 4,
 "nbformat_minor": 2
}
