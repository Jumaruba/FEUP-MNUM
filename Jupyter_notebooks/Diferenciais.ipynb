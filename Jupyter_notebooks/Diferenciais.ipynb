{
 "cells": [
  {
   "cell_type": "code",
   "execution_count": 2,
   "metadata": {},
   "outputs": [],
   "source": [
    "import math as m"
   ]
  },
  {
   "cell_type": "code",
   "execution_count": 13,
   "metadata": {},
   "outputs": [
    {
     "name": "stdout",
     "output_type": "stream",
     "text": [
      "0.9307268557086219\n"
     ]
    }
   ],
   "source": [
    "#euler simples\n",
    "def dfy(x,y): \n",
    "    return x*x + y*y\n",
    "def euler(x,y,h,b):\n",
    "    while (x < b -0.0001): \n",
    "        xn = x + h\n",
    "        yn = y + h*dfy(x,y)\n",
    "        x = xn \n",
    "        y = yn\n",
    "    return y\n",
    "    \n",
    "print(euler(0,0,0.1,1.4))"
   ]
  },
  {
   "cell_type": "code",
   "execution_count": 18,
   "metadata": {},
   "outputs": [
    {
     "name": "stdout",
     "output_type": "stream",
     "text": [
      "quociente 1.74421\n",
      "erro 0.01749\n"
     ]
    }
   ],
   "source": [
    "#calculo do quociente e erro de euler\n",
    "h = 0.1 \n",
    "r1 = euler(0,0,h,1.4)\n",
    "r2 = euler(0,0,h/2,1.4)\n",
    "r3 = euler(0,0,h/4,1.4)\n",
    "quociente = (r2-r1)/(r3-r2)\n",
    "erro = (r3-r2)/3\n",
    "print(\"quociente %.5f\" %quociente)\n",
    "print(\"erro %.5f\" %erro)\n",
    "#O quociente tem de ser aproximadamente 2"
   ]
  },
  {
   "cell_type": "code",
   "execution_count": 36,
   "metadata": {},
   "outputs": [
    {
     "name": "stdout",
     "output_type": "stream",
     "text": [
      "t = 0.25000 || C = 1.87605 || T = 43.09357\n",
      "t = 0.50000 || C = 1.40778 || T = 54.25499\n"
     ]
    },
    {
     "data": {
      "text/plain": [
       "54.254990112319504"
      ]
     },
     "execution_count": 36,
     "metadata": {},
     "output_type": "execute_result"
    }
   ],
   "source": [
    "#Euler mais de uma variável \n",
    "b = 0.5\n",
    "a = 30\n",
    "def dc(c, te):\n",
    "    return -m.exp(-b/(te+273))*c\n",
    "def dt(c,te):\n",
    "    return a*m.exp(-b/(te+273))*c - b*(te-20)\n",
    "    \n",
    "def euler_multi(c,te,t,h, b): \n",
    "    #Muito cuidado com o while\n",
    "    while(t < b-0.0001):\n",
    "        cn = c + h*dc(c,te)\n",
    "        ten = te + h*dt(c,te)\n",
    "        t += h \n",
    "        te = ten \n",
    "        c = cn\n",
    "        print(\"t = %.5f || C = %.5f || T = %.5f\" %(t, c, te))\n",
    "    return te\n",
    "euler_multi(2.5,25,0,0.25,0.5)\n",
    "        "
   ]
  },
  {
   "cell_type": "code",
   "execution_count": 35,
   "metadata": {},
   "outputs": [
    {
     "name": "stdout",
     "output_type": "stream",
     "text": [
      "PARA r1\n",
      "t = 0.25000 || C = 1.87605 || T = 43.09357\n",
      "t = 0.50000 || C = 1.40778 || T = 54.25499\n",
      "PARA r2\n",
      "t = 0.12500 || C = 2.18802 || T = 34.04678\n",
      "t = 0.25000 || C = 1.91497 || T = 41.36060\n",
      "t = 0.37500 || C = 1.67598 || T = 47.19527\n",
      "t = 0.50000 || C = 1.46681 || T = 51.77067\n",
      "PARA r3\n",
      "t = 0.06250 || C = 2.34401 || T = 29.52339\n",
      "t = 0.12500 || C = 2.19775 || T = 33.61355\n",
      "t = 0.18750 || C = 2.06062 || T = 37.30220\n",
      "t = 0.25000 || C = 1.93204 || T = 40.61894\n",
      "t = 0.31250 || C = 1.81148 || T = 43.59140\n",
      "t = 0.37500 || C = 1.69844 || T = 46.24532\n",
      "t = 0.43750 || C = 1.59245 || T = 48.60474\n",
      "t = 0.50000 || C = 1.49308 || T = 50.69205\n",
      "QUOCIENTE = 2.30325 || ERRO = -0.35954\n"
     ]
    }
   ],
   "source": [
    "#Calculando quociente e erro de T \n",
    "h = 0.25\n",
    "print(\"PARA r1\")\n",
    "r1 = euler_multi(2.5,25,0,h,0.5)\n",
    "print(\"PARA r2\")\n",
    "r2 = euler_multi(2.5,25,0,h/2,0.5)\n",
    "print(\"PARA r3\")\n",
    "r3 = euler_multi(2.5,25,0,h/4,0.5)\n",
    "erro = (r3-r2)/3\n",
    "quociente = (r2-r1)/(r3-r2)\n",
    "print(\"QUOCIENTE = %.5f || ERRO = %.5f\" %(quociente,erro))"
   ]
  },
  {
   "cell_type": "code",
   "execution_count": 44,
   "metadata": {},
   "outputs": [
    {
     "name": "stdout",
     "output_type": "stream",
     "text": [
      "X = 0.00000 || Y = 0.00000\n",
      "X = 0.10000 || Y = 0.00033\n",
      "X = 0.20000 || Y = 0.00267\n",
      "X = 0.30000 || Y = 0.00900\n",
      "X = 0.40000 || Y = 0.02136\n",
      "X = 0.50000 || Y = 0.04179\n",
      "X = 0.60000 || Y = 0.07245\n",
      "X = 0.70000 || Y = 0.11566\n",
      "X = 0.80000 || Y = 0.17408\n",
      "X = 0.90000 || Y = 0.25091\n",
      "X = 1.00000 || Y = 0.35023\n",
      "X = 1.10000 || Y = 0.47762\n",
      "X = 1.20000 || Y = 0.64108\n",
      "X = 1.30000 || Y = 0.85289\n",
      "X = 1.40000 || Y = 1.13313\n"
     ]
    },
    {
     "data": {
      "text/plain": [
       "1.1331276475762277"
      ]
     },
     "execution_count": 44,
     "metadata": {},
     "output_type": "execute_result"
    }
   ],
   "source": [
    "#RK4 Simples\n",
    "def dfy(x,y): \n",
    "    return x**2 + y**2\n",
    "def rk4(x,y,b,h):\n",
    "    while(x < b-0.0001): \n",
    "        print(\"X = %.5f || Y = %.5f\" %(x,y))\n",
    "        delta1 = h*dfy(x,y)\n",
    "        delta2 = h*dfy(x + h/2, y + delta1/2)\n",
    "        delta3 = h*dfy(x + h/2, y + delta2/2)\n",
    "        delta4 = h*dfy(x + h, y + delta3)\n",
    "        deltay = delta1/6 + delta2/3 + delta3/3 + delta4/6\n",
    "        y += deltay\n",
    "        x += h\n",
    "    print(\"X = %.5f || Y = %.5f\" %(x,y))\n",
    "    return y\n",
    "rk4(0,0,1.4,0.1)"
   ]
  },
  {
   "cell_type": "code",
   "execution_count": 46,
   "metadata": {},
   "outputs": [
    {
     "name": "stdout",
     "output_type": "stream",
     "text": [
      "PARA r1\n",
      "X = 0.00000 || Y = 0.00000\n",
      "X = 0.05000 || Y = 0.00004\n",
      "X = 0.10000 || Y = 0.00033\n",
      "X = 0.15000 || Y = 0.00113\n",
      "X = 0.20000 || Y = 0.00267\n",
      "X = 0.25000 || Y = 0.00521\n",
      "X = 0.30000 || Y = 0.00900\n",
      "X = 0.35000 || Y = 0.01430\n",
      "X = 0.40000 || Y = 0.02136\n",
      "X = 0.45000 || Y = 0.03043\n",
      "X = 0.50000 || Y = 0.04179\n",
      "X = 0.55000 || Y = 0.05570\n",
      "X = 0.60000 || Y = 0.07245\n",
      "X = 0.65000 || Y = 0.09233\n",
      "X = 0.70000 || Y = 0.11566\n",
      "X = 0.75000 || Y = 0.14279\n",
      "X = 0.80000 || Y = 0.17408\n",
      "X = 0.85000 || Y = 0.20996\n",
      "X = 0.90000 || Y = 0.25091\n",
      "X = 0.95000 || Y = 0.29745\n",
      "X = 1.00000 || Y = 0.35023\n",
      "X = 1.05000 || Y = 0.40999\n",
      "X = 1.10000 || Y = 0.47762\n",
      "X = 1.15000 || Y = 0.55420\n",
      "X = 1.20000 || Y = 0.64108\n",
      "X = 1.25000 || Y = 0.73992\n",
      "X = 1.30000 || Y = 0.85288\n",
      "X = 1.35000 || Y = 0.98272\n",
      "X = 1.40000 || Y = 1.13311\n",
      "PARA r2\n",
      "X = 0.00000 || Y = 0.00000\n",
      "X = 0.02500 || Y = 0.00001\n",
      "X = 0.05000 || Y = 0.00004\n",
      "X = 0.07500 || Y = 0.00014\n",
      "X = 0.10000 || Y = 0.00033\n",
      "X = 0.12500 || Y = 0.00065\n",
      "X = 0.15000 || Y = 0.00113\n",
      "X = 0.17500 || Y = 0.00179\n",
      "X = 0.20000 || Y = 0.00267\n",
      "X = 0.22500 || Y = 0.00380\n",
      "X = 0.25000 || Y = 0.00521\n",
      "X = 0.27500 || Y = 0.00693\n",
      "X = 0.30000 || Y = 0.00900\n",
      "X = 0.32500 || Y = 0.01145\n",
      "X = 0.35000 || Y = 0.01430\n",
      "X = 0.37500 || Y = 0.01759\n",
      "X = 0.40000 || Y = 0.02136\n",
      "X = 0.42500 || Y = 0.02563\n",
      "X = 0.45000 || Y = 0.03043\n",
      "X = 0.47500 || Y = 0.03581\n",
      "X = 0.50000 || Y = 0.04179\n",
      "X = 0.52500 || Y = 0.04841\n",
      "X = 0.55000 || Y = 0.05570\n",
      "X = 0.57500 || Y = 0.06370\n",
      "X = 0.60000 || Y = 0.07245\n",
      "X = 0.62500 || Y = 0.08198\n",
      "X = 0.65000 || Y = 0.09233\n",
      "X = 0.67500 || Y = 0.10354\n",
      "X = 0.70000 || Y = 0.11566\n",
      "X = 0.72500 || Y = 0.12873\n",
      "X = 0.75000 || Y = 0.14279\n",
      "X = 0.77500 || Y = 0.15789\n",
      "X = 0.80000 || Y = 0.17408\n",
      "X = 0.82500 || Y = 0.19142\n",
      "X = 0.85000 || Y = 0.20996\n",
      "X = 0.87500 || Y = 0.22977\n",
      "X = 0.90000 || Y = 0.25091\n",
      "X = 0.92500 || Y = 0.27344\n",
      "X = 0.95000 || Y = 0.29745\n",
      "X = 0.97500 || Y = 0.32302\n",
      "X = 1.00000 || Y = 0.35023\n",
      "X = 1.02500 || Y = 0.37919\n",
      "X = 1.05000 || Y = 0.40999\n",
      "X = 1.07500 || Y = 0.44276\n",
      "X = 1.10000 || Y = 0.47762\n",
      "X = 1.12500 || Y = 0.51471\n",
      "X = 1.15000 || Y = 0.55420\n",
      "X = 1.17500 || Y = 0.59626\n",
      "X = 1.20000 || Y = 0.64108\n",
      "X = 1.22500 || Y = 0.68888\n",
      "X = 1.25000 || Y = 0.73992\n",
      "X = 1.27500 || Y = 0.79448\n",
      "X = 1.30000 || Y = 0.85288\n",
      "X = 1.32500 || Y = 0.91548\n",
      "X = 1.35000 || Y = 0.98272\n",
      "X = 1.37500 || Y = 1.05507\n",
      "X = 1.40000 || Y = 1.13311\n",
      "PARA r3\n",
      "X = 0.00000 || Y = 0.00000\n",
      "X = 0.01250 || Y = 0.00000\n",
      "X = 0.02500 || Y = 0.00001\n",
      "X = 0.03750 || Y = 0.00002\n",
      "X = 0.05000 || Y = 0.00004\n",
      "X = 0.06250 || Y = 0.00008\n",
      "X = 0.07500 || Y = 0.00014\n",
      "X = 0.08750 || Y = 0.00022\n",
      "X = 0.10000 || Y = 0.00033\n",
      "X = 0.11250 || Y = 0.00047\n",
      "X = 0.12500 || Y = 0.00065\n",
      "X = 0.13750 || Y = 0.00087\n",
      "X = 0.15000 || Y = 0.00113\n",
      "X = 0.16250 || Y = 0.00143\n",
      "X = 0.17500 || Y = 0.00179\n",
      "X = 0.18750 || Y = 0.00220\n",
      "X = 0.20000 || Y = 0.00267\n",
      "X = 0.21250 || Y = 0.00320\n",
      "X = 0.22500 || Y = 0.00380\n",
      "X = 0.23750 || Y = 0.00447\n",
      "X = 0.25000 || Y = 0.00521\n",
      "X = 0.26250 || Y = 0.00603\n",
      "X = 0.27500 || Y = 0.00693\n",
      "X = 0.28750 || Y = 0.00792\n",
      "X = 0.30000 || Y = 0.00900\n",
      "X = 0.31250 || Y = 0.01018\n",
      "X = 0.32500 || Y = 0.01145\n",
      "X = 0.33750 || Y = 0.01282\n",
      "X = 0.35000 || Y = 0.01430\n",
      "X = 0.36250 || Y = 0.01589\n",
      "X = 0.37500 || Y = 0.01759\n",
      "X = 0.38750 || Y = 0.01942\n",
      "X = 0.40000 || Y = 0.02136\n",
      "X = 0.41250 || Y = 0.02343\n",
      "X = 0.42500 || Y = 0.02563\n",
      "X = 0.43750 || Y = 0.02796\n",
      "X = 0.45000 || Y = 0.03043\n",
      "X = 0.46250 || Y = 0.03305\n",
      "X = 0.47500 || Y = 0.03581\n",
      "X = 0.48750 || Y = 0.03872\n",
      "X = 0.50000 || Y = 0.04179\n",
      "X = 0.51250 || Y = 0.04502\n",
      "X = 0.52500 || Y = 0.04841\n",
      "X = 0.53750 || Y = 0.05197\n",
      "X = 0.55000 || Y = 0.05570\n",
      "X = 0.56250 || Y = 0.05961\n",
      "X = 0.57500 || Y = 0.06370\n",
      "X = 0.58750 || Y = 0.06798\n",
      "X = 0.60000 || Y = 0.07245\n",
      "X = 0.61250 || Y = 0.07711\n",
      "X = 0.62500 || Y = 0.08198\n",
      "X = 0.63750 || Y = 0.08705\n",
      "X = 0.65000 || Y = 0.09233\n",
      "X = 0.66250 || Y = 0.09782\n",
      "X = 0.67500 || Y = 0.10354\n",
      "X = 0.68750 || Y = 0.10949\n",
      "X = 0.70000 || Y = 0.11566\n",
      "X = 0.71250 || Y = 0.12207\n",
      "X = 0.72500 || Y = 0.12873\n",
      "X = 0.73750 || Y = 0.13563\n",
      "X = 0.75000 || Y = 0.14279\n",
      "X = 0.76250 || Y = 0.15020\n",
      "X = 0.77500 || Y = 0.15789\n",
      "X = 0.78750 || Y = 0.16584\n",
      "X = 0.80000 || Y = 0.17408\n",
      "X = 0.81250 || Y = 0.18260\n",
      "X = 0.82500 || Y = 0.19142\n",
      "X = 0.83750 || Y = 0.20054\n",
      "X = 0.85000 || Y = 0.20996\n",
      "X = 0.86250 || Y = 0.21970\n",
      "X = 0.87500 || Y = 0.22977\n",
      "X = 0.88750 || Y = 0.24017\n",
      "X = 0.90000 || Y = 0.25091\n",
      "X = 0.91250 || Y = 0.26199\n",
      "X = 0.92500 || Y = 0.27344\n",
      "X = 0.93750 || Y = 0.28526\n",
      "X = 0.95000 || Y = 0.29745\n",
      "X = 0.96250 || Y = 0.31004\n",
      "X = 0.97500 || Y = 0.32302\n",
      "X = 0.98750 || Y = 0.33641\n",
      "X = 1.00000 || Y = 0.35023\n",
      "X = 1.01250 || Y = 0.36448\n",
      "X = 1.02500 || Y = 0.37919\n",
      "X = 1.03750 || Y = 0.39435\n",
      "X = 1.05000 || Y = 0.40999\n",
      "X = 1.06250 || Y = 0.42612\n",
      "X = 1.07500 || Y = 0.44276\n",
      "X = 1.08750 || Y = 0.45992\n",
      "X = 1.10000 || Y = 0.47762\n",
      "X = 1.11250 || Y = 0.49588\n",
      "X = 1.12500 || Y = 0.51471\n",
      "X = 1.13750 || Y = 0.53415\n",
      "X = 1.15000 || Y = 0.55420\n",
      "X = 1.16250 || Y = 0.57490\n",
      "X = 1.17500 || Y = 0.59626\n",
      "X = 1.18750 || Y = 0.61831\n",
      "X = 1.20000 || Y = 0.64108\n",
      "X = 1.21250 || Y = 0.66459\n",
      "X = 1.22500 || Y = 0.68888\n",
      "X = 1.23750 || Y = 0.71398\n",
      "X = 1.25000 || Y = 0.73992\n",
      "X = 1.26250 || Y = 0.76674\n",
      "X = 1.27500 || Y = 0.79448\n",
      "X = 1.28750 || Y = 0.82318\n",
      "X = 1.30000 || Y = 0.85288\n",
      "X = 1.31250 || Y = 0.88363\n",
      "X = 1.32500 || Y = 0.91548\n",
      "X = 1.33750 || Y = 0.94849\n",
      "X = 1.35000 || Y = 0.98272\n",
      "X = 1.36250 || Y = 1.01822\n",
      "X = 1.37500 || Y = 1.05507\n",
      "X = 1.38750 || Y = 1.09334\n",
      "X = 1.40000 || Y = 1.13311\n",
      "ERRO = -0.00000 || QUOCIENTE = 14.79299\n"
     ]
    }
   ],
   "source": [
    "#Calculo do erro \n",
    "h = 0.1 \n",
    "print(\"PARA r1\")\n",
    "r1 = rk4(0,0,1.4,h/2)\n",
    "print(\"PARA r2\")\n",
    "r2 = rk4(0,0,1.4,h/4)\n",
    "print(\"PARA r3\")\n",
    "r3 = rk4(0,0,1.4,h/8)\n",
    "quociente = (r2-r1)/(r3-r2)\n",
    "erro = (r3-r2)/15\n",
    "print(\"ERRO = %.5f || QUOCIENTE = %.5f\" %(erro, quociente))\n"
   ]
  },
  {
   "cell_type": "code",
   "execution_count": 47,
   "metadata": {},
   "outputs": [
    {
     "name": "stdout",
     "output_type": "stream",
     "text": [
      "X = 0.00000 || Y = 0.00000 || Z = 0.00000\n",
      "X = 0.05000 || Y = 0.00002 || Z = 0.00119\n",
      "X = 0.10000 || Y = 0.00015 || Z = 0.00452\n",
      "X = 0.15000 || Y = 0.00050 || Z = 0.00968\n",
      "X = 0.20000 || Y = 0.00115 || Z = 0.01638\n",
      "X = 0.25000 || Y = 0.00216 || Z = 0.02434\n",
      "X = 0.30000 || Y = 0.00360 || Z = 0.03335\n",
      "X = 0.35000 || Y = 0.00551 || Z = 0.04319\n",
      "X = 0.40000 || Y = 0.00793 || Z = 0.05368\n",
      "X = 0.45000 || Y = 0.01089 || Z = 0.06466\n",
      "X = 0.50000 || Y = 0.01440 || Z = 0.07597\n"
     ]
    },
    {
     "data": {
      "text/plain": [
       "[0.49999999999999994, 0.014401773876435006, 0.07597447692194101]"
      ]
     },
     "execution_count": 47,
     "metadata": {},
     "output_type": "execute_result"
    }
   ],
   "source": [
    "#RK4 ordem superior\n",
    "#Resolver d^2y + 3dy + 2y = x \n",
    "#Temos z = dy, entao dz + 3z + 2y = x => dz = x - 3z - 2y\n",
    "#Ficamos dy = z, dz = x - 3z - 3y \n",
    "def dfz(x,y,z): \n",
    "    return x - 3*z - 3*y\n",
    "def dfy(x,y,z):\n",
    "    return z \n",
    "\n",
    "def rk4_superior(x,y,z,h,b):\n",
    "    while(x< b-0.001):\n",
    "        print (\"X = %.5f || Y = %.5f || Z = %.5f\" %(x,y,z))\n",
    "        delta1_y = h*dfy(x,y,z)\n",
    "        delta1_z = h*dfz(x,y,z)\n",
    "        delta2_y = h*dfy(x + h/2, y + delta1_y/2, z + delta1_z/2)\n",
    "        delta2_z = h*dfz(x + h/2, y + delta1_y/2, z + delta1_z/2)\n",
    "        delta3_y = h*dfy(x + h/2, y + delta2_y/2, z + delta2_z/2)\n",
    "        delta3_z = h*dfz(x + h/2, y + delta2_y/2, z + delta2_z/2)\n",
    "        delta4_y = h*dfy(x + h, y + delta3_y, z + delta3_z)\n",
    "        delta4_z = h*dfz(x + h, y + delta3_y, z + delta3_z)\n",
    "        delta_y = delta1_y/6 + delta2_y/3 + delta3_y/3 + delta4_y/6\n",
    "        delta_z = delta1_z/6 + delta2_z/3 + delta3_z/3 + delta4_z/6\n",
    "        y += delta_y \n",
    "        z += delta_z \n",
    "        x += h \n",
    "    print (\"X = %.5f || Y = %.5f || Z = %.5f\" %(x,y,z))\n",
    "    return [x,y,z]\n",
    "rk4_superior(0,0,0,0.05,0.5)"
   ]
  },
  {
   "cell_type": "code",
   "execution_count": 50,
   "metadata": {},
   "outputs": [
    {
     "name": "stdout",
     "output_type": "stream",
     "text": [
      "X = 0.00000 || Y = 1.00000 || Z = 1.00000\n",
      "X = 0.10000 || Y = 1.11629 || Z = 1.11089\n",
      "X = 0.20000 || Y = 1.27153 || Z = 1.24768\n",
      "X = 0.30000 || Y = 1.47902 || Z = 1.41808\n",
      "X = 0.40000 || Y = 1.75975 || Z = 1.63270\n",
      "X = 0.50000 || Y = 2.14838 || Z = 1.90661\n"
     ]
    },
    {
     "data": {
      "text/plain": [
       "[0.5, 2.148382989788771, 1.9066098725913996]"
      ]
     },
     "execution_count": 50,
     "metadata": {},
     "output_type": "execute_result"
    }
   ],
   "source": [
    "#RK4 Sistemas\n",
    "def dfy(x,y,z): \n",
    "    return z*y + x \n",
    "def dfz(x,y,z):\n",
    "    return z*x + y\n",
    "\n",
    "def rk4_sistema(x,y,z,h,b):\n",
    "    while (x< b-0.0001): \n",
    "        print(\"X = %.5f || Y = %.5f || Z = %.5f\" %(x,y,z))\n",
    "        delta1_y = h*dfy(x,y,z) \n",
    "        delta1_z = h*dfz(x,y,z)\n",
    "        delta2_y = h*dfy(x + h/2, y + delta1_y/2, z + delta1_z/2)\n",
    "        delta2_z = h*dfz(x + h/2, y + delta1_y/2, z + delta1_z/2)\n",
    "        delta3_y = h*dfy(x + h/2, y + delta2_y/2, z + delta2_z/2)\n",
    "        delta3_z = h*dfz(x + h/2, y + delta2_y/2, z + delta2_z/2)\n",
    "        delta4_y = h*dfy(x + h, delta3_y + y, delta3_z + z)\n",
    "        delta4_z = h*dfz(x + h, delta3_y + y, delta3_z + z)\n",
    "        delta_y = delta1_y/6 + delta2_y/3 + delta3_y/3 + delta4_y/6\n",
    "        delta_z = delta1_z/6 + delta2_z/3 + delta3_z/3 + delta4_z/6\n",
    "        y+= delta_y\n",
    "        z+=delta_z \n",
    "        x+= h\n",
    "    print(\"X = %.5f || Y = %.5f || Z = %.5f\" %(x,y,z))\n",
    "    return [x,y,z]\n",
    "\n",
    "rk4_sistema(0,1,1,0.1,0.5)"
   ]
  },
  {
   "cell_type": "code",
   "execution_count": null,
   "metadata": {},
   "outputs": [],
   "source": []
  }
 ],
 "metadata": {
  "kernelspec": {
   "display_name": "Python 3",
   "language": "python",
   "name": "python3"
  },
  "language_info": {
   "codemirror_mode": {
    "name": "ipython",
    "version": 3
   },
   "file_extension": ".py",
   "mimetype": "text/x-python",
   "name": "python",
   "nbconvert_exporter": "python",
   "pygments_lexer": "ipython3",
   "version": "3.7.4"
  }
 },
 "nbformat": 4,
 "nbformat_minor": 2
}
