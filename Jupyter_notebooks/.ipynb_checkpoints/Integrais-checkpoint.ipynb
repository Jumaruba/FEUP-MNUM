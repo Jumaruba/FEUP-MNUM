{
 "cells": [
  {
   "cell_type": "code",
   "execution_count": 2,
   "metadata": {},
   "outputs": [],
   "source": [
    "import math as m "
   ]
  },
  {
   "cell_type": "code",
   "execution_count": 27,
   "metadata": {},
   "outputs": [
    {
     "data": {
      "text/plain": [
       "0.24358830147057203"
      ]
     },
     "execution_count": 27,
     "metadata": {},
     "output_type": "execute_result"
    }
   ],
   "source": [
    "#Regra dos trapezios \n",
    "def f(x): \n",
    "    return m.sin(x)/(x*x)\n",
    "\n",
    "def trapezio(a,b,n):\n",
    "    h = abs((a-b)/n)\n",
    "    total = 0 \n",
    "    for i in range(1,n):\n",
    "        total += 2*f(a+i*h)\n",
    "    total += f(a) + f(b) \n",
    "    total*= h/2\n",
    "    return total        \n",
    "trapezio(m.pi/2, m.pi, 4)"
   ]
  },
  {
   "cell_type": "code",
   "execution_count": 20,
   "metadata": {},
   "outputs": [
    {
     "name": "stdout",
     "output_type": "stream",
     "text": [
      "ERRO = -0.00033 || QUOCIENTE = 3.98039\n"
     ]
    }
   ],
   "source": [
    "#Calculo do erro e quociente\n",
    "n = 4\n",
    "r1 = trapezio(1,1,m.pi/2, m.pi, n)\n",
    "r2 = trapezio(1,1,m.pi/2, m.pi, n*2)\n",
    "r3 = trapezio(1,1,m.pi/2, m.pi, n*4)\n",
    "erro = (r3-r2)/3 \n",
    "quociente = (r2-r1)/(r3-r2)\n",
    "print(\"ERRO = %.5f || QUOCIENTE = %.5f\" %(erro, quociente))"
   ]
  },
  {
   "cell_type": "code",
   "execution_count": 34,
   "metadata": {},
   "outputs": [
    {
     "data": {
      "text/plain": [
       "0.23838770551690475"
      ]
     },
     "execution_count": 34,
     "metadata": {},
     "output_type": "execute_result"
    }
   ],
   "source": [
    "#Regra de simpson \n",
    "def simpson(a,b,h): \n",
    "    n = abs(round((a-b)/h))\n",
    "    total = 0\n",
    "    for i in range(1,n,2):\n",
    "        total += 4*f(a+i*h)\n",
    "    for i in range(2,n,2): \n",
    "        total += 2*f(a+i*h)\n",
    "    total += f(a) + f(b)\n",
    "    total *= h/3\n",
    "    return total\n",
    "\n",
    "simpson(m.pi/2,m.pi, m.pi/8)"
   ]
  },
  {
   "cell_type": "code",
   "execution_count": 35,
   "metadata": {},
   "outputs": [
    {
     "name": "stdout",
     "output_type": "stream",
     "text": [
      "ERRO = -0.00000 || QUOCIENTE = 3.98039\n"
     ]
    }
   ],
   "source": [
    "r1 = simpson(m.pi/2, m.pi, m.pi/8)\n",
    "r2 = simpson(m.pi/2, m.pi, m.pi/16)\n",
    "r3 = simpson(m.pi/2, m.pi, m.pi/32)\n",
    "r4 = simpson(m.pi/2, m.pi, m.pi/64)\n",
    "\n",
    "coeficiente = (r3-r2)/(r4-r3)\n",
    "erro = (r4-r3)/15\n",
    "print(\"ERRO = %.5f || QUOCIENTE = %.5f\" %(erro, quociente))"
   ]
  },
  {
   "cell_type": "code",
   "execution_count": null,
   "metadata": {},
   "outputs": [],
   "source": []
  }
 ],
 "metadata": {
  "kernelspec": {
   "display_name": "Python 3",
   "language": "python",
   "name": "python3"
  },
  "language_info": {
   "codemirror_mode": {
    "name": "ipython",
    "version": 3
   },
   "file_extension": ".py",
   "mimetype": "text/x-python",
   "name": "python",
   "nbconvert_exporter": "python",
   "pygments_lexer": "ipython3",
   "version": "3.7.4"
  }
 },
 "nbformat": 4,
 "nbformat_minor": 2
}
