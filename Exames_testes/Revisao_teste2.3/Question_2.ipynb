{
 "cells": [
  {
   "cell_type": "code",
   "execution_count": 5,
   "metadata": {},
   "outputs": [
    {
     "name": "stdout",
     "output_type": "stream",
     "text": [
      "0 || X = 0.00000 || Y = 0.00000\n",
      "1 || X = -3.00000 || Y = 12.00000\n",
      "2 || X = 1.00000 || Y = -4.00000\n",
      "3 || X = -2.00000 || Y = 8.00000\n",
      "4 || X = 0.00000 || Y = 0.00000\n",
      "5 || X = -1.50000 || Y = 6.00000\n",
      "6 || X = -0.50000 || Y = 2.00000\n",
      "7 || X = -1.25000 || Y = 5.00000\n",
      "8 || X = -0.75000 || Y = 3.00000\n",
      "9 || X = -1.12500 || Y = 4.50000\n",
      "10 || X = -0.87500 || Y = 3.50000\n",
      "11 || X = -1.06250 || Y = 4.25000\n",
      "12 || X = -0.93750 || Y = 3.75000\n",
      "13 || X = -1.03125 || Y = 4.12500\n",
      "14 || X = -0.96875 || Y = 3.87500\n",
      "15 || X = -1.01562 || Y = 4.06250\n",
      "16 || X = -0.98438 || Y = 3.93750\n",
      "17 || X = -1.00781 || Y = 4.03125\n",
      "18 || X = -0.99219 || Y = 3.96875\n",
      "19 || X = -1.00391 || Y = 4.01562\n",
      "20 || X = -0.99609 || Y = 3.98438\n",
      "21 || X = -1.00195 || Y = 4.00781\n",
      "22 || X = -0.99805 || Y = 3.99219\n",
      "23 || X = -1.00098 || Y = 4.00391\n",
      "24 || X = -0.99902 || Y = 3.99609\n",
      "25 || X = -1.00049 || Y = 4.00195\n",
      "26 || X = -0.99951 || Y = 3.99805\n",
      "27 || X = -1.00024 || Y = 4.00098\n",
      "28 || X = -0.99976 || Y = 3.99902\n",
      "29 || X = -1.00012 || Y = 4.00049\n",
      "29 || X = -0.99988 || Y = 3.99951\n"
     ]
    },
    {
     "data": {
      "text/plain": [
       "[-0.9998779296875, 3.99951171875]"
      ]
     },
     "execution_count": 5,
     "metadata": {},
     "output_type": "execute_result"
    }
   ],
   "source": [
    "#questão 2\n",
    "def f(x,y): \n",
    "    return (x+1)**2 + (y-4)**2 \n",
    "def dfx(x,y):\n",
    "    return 2*(x+1) \n",
    "def dfy(x,y):\n",
    "    return 2*(y-4)\n",
    "def dfxx(x,y): \n",
    "    return 2\n",
    "def dfyy(x,y):\n",
    "    return 2\n",
    "def dfxy(x,y):\n",
    "    return 0\n",
    "def dfyx(x,y):\n",
    "    return 0 \n",
    "\n",
    "def levenberg(x,y,lamb): \n",
    "    for i in range(30): \n",
    "        print(\"%i || X = %.5f || Y = %.5f\" %(i,x,y))\n",
    "        det = dfyy(x,y)*dfxx(x,y) - dfxy(x,y)*dfyx(x,y)\n",
    "        xn = x - ((dfyy(x,y)*dfx(x,y) - dfyx(x,y)*dfy(x,y))/det + lamb*dfx(x,y))\n",
    "        yn = y - ((-dfyx(x,y)*dfx(x,y) + dfxx(x,y)*dfy(x,y))/det + lamb*dfy(x,y))\n",
    "        if f(xn,yn) < f(x,y): \n",
    "            lamb*=2   \n",
    "        else: \n",
    "            lamb/=2 \n",
    "        x = xn \n",
    "        y = yn \n",
    "    print(\"%i || X = %.5f || Y = %.5f\" %(i,x,y))\n",
    "    return [x,y]\n",
    "\n",
    "levenberg(0,0,1)\n",
    "        "
   ]
  },
  {
   "cell_type": "code",
   "execution_count": null,
   "metadata": {},
   "outputs": [],
   "source": []
  }
 ],
 "metadata": {
  "kernelspec": {
   "display_name": "Python 3",
   "language": "python",
   "name": "python3"
  },
  "language_info": {
   "codemirror_mode": {
    "name": "ipython",
    "version": 3
   },
   "file_extension": ".py",
   "mimetype": "text/x-python",
   "name": "python",
   "nbconvert_exporter": "python",
   "pygments_lexer": "ipython3",
   "version": "3.7.4"
  }
 },
 "nbformat": 4,
 "nbformat_minor": 2
}
