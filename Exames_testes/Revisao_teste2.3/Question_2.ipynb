{
 "cells": [
  {
   "cell_type": "code",
   "execution_count": 12,
   "metadata": {},
   "outputs": [
    {
     "name": "stdout",
     "output_type": "stream",
     "text": [
      "0 || X = 0.00000 || Y = 0.00000\n",
      "1 || X = -1.20000 || Y = 4.80000\n",
      "2 || X = -0.98000 || Y = 3.92000\n",
      "3 || X = -1.00100 || Y = 4.00400\n",
      "4 || X = -0.99998 || Y = 3.99990\n",
      "4 || X = -1.00000 || Y = 4.00000\n"
     ]
    },
    {
     "data": {
      "text/plain": [
       "[-1.0000003125, 4.00000125]"
      ]
     },
     "execution_count": 12,
     "metadata": {},
     "output_type": "execute_result"
    }
   ],
   "source": [
    "#questão 2\n",
    "def f(x,y): \n",
    "    return (x+1)**2 + (y-4)**2 \n",
    "def dfx(x,y):\n",
    "    return 2*(x+1) \n",
    "def dfy(x,y):\n",
    "    return 2*(y-4)\n",
    "def dfxx(x,y): \n",
    "    return 2\n",
    "def dfyy(x,y):\n",
    "    return 2\n",
    "def dfxy(x,y):\n",
    "    return 0\n",
    "def dfyx(x,y):\n",
    "    return 0 \n",
    "\n",
    "def levenberg(x,y,lamb): \n",
    "    for i in range(5): \n",
    "        print(\"%i || X = %.5f || Y = %.5f\" %(i,x,y))\n",
    "        det = dfyy(x,y)*dfxx(x,y) - dfxy(x,y)*dfyx(x,y)\n",
    "        xn = x - ((dfyy(x,y)*dfx(x,y) - dfyx(x,y)*dfy(x,y))/det + lamb*dfx(x,y))\n",
    "        yn = y - ((-dfyx(x,y)*dfx(x,y) + dfxx(x,y)*dfy(x,y))/det + lamb*dfy(x,y))\n",
    "        if f(xn,yn) < f(x,y): \n",
    "            lamb/=2   \n",
    "        else: \n",
    "            lamb*=2 \n",
    "        x = xn \n",
    "        y = yn \n",
    "    print(\"%i || X = %.5f || Y = %.5f\" %(i,x,y))\n",
    "    return [x,y]\n",
    "\n",
    "levenberg(0,0,0.1)\n",
    "        "
   ]
  },
  {
   "cell_type": "code",
   "execution_count": null,
   "metadata": {},
   "outputs": [],
   "source": []
  }
 ],
 "metadata": {
  "kernelspec": {
   "display_name": "Python 3",
   "language": "python",
   "name": "python3"
  },
  "language_info": {
   "codemirror_mode": {
    "name": "ipython",
    "version": 3
   },
   "file_extension": ".py",
   "mimetype": "text/x-python",
   "name": "python",
   "nbconvert_exporter": "python",
   "pygments_lexer": "ipython3",
   "version": "3.7.4"
  }
 },
 "nbformat": 4,
 "nbformat_minor": 2
}
