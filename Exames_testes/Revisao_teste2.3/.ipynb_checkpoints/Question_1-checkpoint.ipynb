{
 "cells": [
  {
   "cell_type": "code",
   "execution_count": 3,
   "metadata": {},
   "outputs": [],
   "source": [
    "import math as m\n"
   ]
  },
  {
   "cell_type": "code",
   "execution_count": 4,
   "metadata": {},
   "outputs": [],
   "source": [
    "#levenberg marquadt \n",
    "def f(x,y):\n",
    "    return m.sin(y) + y**2/4 + m.cos(x) + x**2/4 -1\n",
    "def dfx(x,y):\n",
    "    return x/2 - m.sin(x)\n",
    "def dfy(x,y):\n",
    "    return m.cos(y)+y/2\n",
    "def dfxx(x,y):\n",
    "    return 1/2 - m.cos(x)\n",
    "def dfyy(x,y):\n",
    "    return 1/2 - m.sin(y)\n",
    "def dfxy(x,y):\n",
    "    return 0\n",
    "def dfyx(x,y):\n",
    "    return 0"
   ]
  },
  {
   "cell_type": "code",
   "execution_count": 5,
   "metadata": {},
   "outputs": [],
   "source": [
    "\n",
    "def levemberg(x,y, lamb):     \n",
    "    for i in range(22):\n",
    "        print(\"%i || X = %.5f || Y = %.5f\" %(i, x, y))\n",
    "        det = dfyy(x,y)*dfxx(x,y) + dfyx(x,y)*dfxy(x,y)\n",
    "        xn = x - ((dfyy(x,y)*dfx(x,y) - dfxy(x,y)*dfy(x,y))/det + lamb*dfx(x,y))\n",
    "        yn = y - ((-dfyx(x,y)*dfx(x,y) + dfxx(x,y)*dfy(x,y))/det + lamb*dfy(x,y))\n",
    "        \n",
    "        \n",
    "        if f(xn,yn) < f(x,y):  #a nova operação foi bem sucedida\n",
    "            lamb/=2\n",
    "        else:           \n",
    "            lamb*=2            \n",
    "\n",
    "            \n",
    "        x = xn \n",
    "        y = yn \n",
    "    return [x,y]"
   ]
  },
  {
   "cell_type": "code",
   "execution_count": 6,
   "metadata": {},
   "outputs": [
    {
     "name": "stdout",
     "output_type": "stream",
     "text": [
      "0 || X = 1.00000 || Y = 1.00000\n",
      "1 || X = -7.43859 || Y = 3.94250\n",
      "2 || X = 22.19633 || Y = 2.64049\n",
      "3 || X = 10.03410 || Y = -20.13668\n",
      "4 || X = 1.32838 || Y = -5.60165\n",
      "5 || X = 2.63037 || Y = -20.36445\n",
      "6 || X = 1.36768 || Y = -5.50543\n",
      "7 || X = 2.47694 || Y = -14.80542\n",
      "8 || X = 1.49659 || Y = -2.14405\n",
      "9 || X = 2.18075 || Y = -0.29365\n",
      "10 || X = 1.87429 || Y = -1.48222\n",
      "11 || X = 1.89748 || Y = -0.98072\n",
      "12 || X = 1.89542 || Y = -1.03366\n",
      "13 || X = 1.89550 || Y = -1.02974\n",
      "14 || X = 1.89549 || Y = -1.02987\n",
      "15 || X = 1.89549 || Y = -1.02987\n",
      "16 || X = 1.89549 || Y = -1.02987\n",
      "17 || X = 1.89549 || Y = -1.02987\n",
      "18 || X = 1.89549 || Y = -1.02987\n",
      "19 || X = 1.89549 || Y = -1.02987\n",
      "20 || X = 1.89549 || Y = -1.02987\n",
      "21 || X = 1.89549 || Y = -1.02987\n"
     ]
    },
    {
     "data": {
      "text/plain": [
       "[1.895494267033981, -1.0298665293222589]"
      ]
     },
     "execution_count": 6,
     "metadata": {},
     "output_type": "execute_result"
    }
   ],
   "source": [
    "levemberg(1,1,0.1)"
   ]
  },
  {
   "cell_type": "code",
   "execution_count": null,
   "metadata": {},
   "outputs": [],
   "source": []
  }
 ],
 "metadata": {
  "kernelspec": {
   "display_name": "Python 3",
   "language": "python",
   "name": "python3"
  },
  "language_info": {
   "codemirror_mode": {
    "name": "ipython",
    "version": 3
   },
   "file_extension": ".py",
   "mimetype": "text/x-python",
   "name": "python",
   "nbconvert_exporter": "python",
   "pygments_lexer": "ipython3",
   "version": "3.7.4"
  }
 },
 "nbformat": 4,
 "nbformat_minor": 2
}
