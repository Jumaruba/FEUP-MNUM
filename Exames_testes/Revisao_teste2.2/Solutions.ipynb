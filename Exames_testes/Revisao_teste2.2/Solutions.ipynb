{
 "cells": [
  {
   "cell_type": "code",
   "execution_count": 1,
   "metadata": {},
   "outputs": [],
   "source": [
    "import math as m"
   ]
  },
  {
   "cell_type": "markdown",
   "metadata": {},
   "source": [
    "# --Gauss--"
   ]
  },
  {
   "cell_type": "code",
   "execution_count": 2,
   "metadata": {},
   "outputs": [],
   "source": [
    "matrix = [[3,-1,2,-1],[1,1,1,8],[2,0,1,5]]"
   ]
  },
  {
   "cell_type": "code",
   "execution_count": 5,
   "metadata": {},
   "outputs": [],
   "source": [
    "#GAUSS\n",
    "def rowOp(down,up,k):\n",
    "    for i in range(len(matrix[0])):\n",
    "        matrix[down][i] -= k*matrix[up][i]\n",
    "def gauss():\n",
    "    for i in range(len(matrix)): \n",
    "        rowOp(i,i,1-1/matrix[i][i])\n",
    "        for j in range(i,len(matrix)):\n",
    "            if i!= j: \n",
    "                rowOp(j,i,matrix[j][i])"
   ]
  },
  {
   "cell_type": "code",
   "execution_count": 8,
   "metadata": {},
   "outputs": [
    {
     "name": "stdout",
     "output_type": "stream",
     "text": [
      "[1.0, -0.33333333333333326, 0.6666666666666665, -0.33333333333333326]\n",
      "[0.0, 1.0, 0.2500000000000001, 6.25]\n",
      "[0.0, 0.0, 1.0, -3.0000000000000018]\n"
     ]
    }
   ],
   "source": [
    "gauss()\n",
    "for i in matrix:\n",
    "    print(i)"
   ]
  },
  {
   "cell_type": "markdown",
   "metadata": {},
   "source": [
    "## Como calcular estabilidade externa \n",
    "\n",
    "Agora, para estudar a estabilidade externa, precisamos fazer: \n",
    "$$ E_{externa} = M^{-1}.(b - a.X)$$\n",
    "Onde:\n",
    "- __M__ é a matriz \n",
    "- __b__ é a matriz do erro [3x3] \n",
    "- __a__ é a matriz do erro [3x1]\n",
    "- __X__ é a matriz [3x1] das respostas"
   ]
  },
  {
   "cell_type": "markdown",
   "metadata": {},
   "source": [
    "## Calculos no Máxima\n",
    "### Definindo variáveis"
   ]
  },
  {
   "cell_type": "code",
   "execution_count": null,
   "metadata": {},
   "outputs": [],
   "source": [
    "(%i1) matrix: matrix([3,-1,2],[1,1,1],[2,0,1])$\n",
    "(%i2) b: matrix([0.5,0.5,0.5],[0.5,0.5,0.5],[0.5,0.5,0.5])$\n",
    "(%i3) a: matrix([0.5],[0.5],[0.5])$\n",
    "(%i5) z: -3.0000000000000018$\n",
    "(%i6) y: 6.25 - 0.2500000000000001*z$\n",
    "(%i7) x: -0.33333333333333326 +0.33333333333333326*y - 0.6666666666666665*z$\n",
    "(%i8) X: matrix([x],[y],[z]);"
   ]
  },
  {
   "cell_type": "markdown",
   "metadata": {},
   "source": [
    "### Calculando estabilidade externa"
   ]
  },
  {
   "cell_type": "code",
   "execution_count": null,
   "metadata": {},
   "outputs": [],
   "source": [
    "(%i9) est: invert(matrix).(a -b.X);\n",
    "\n",
    "                                  [ - 1.75 ]\n",
    "                                  [        ]\n",
    "(%o9)                             [ - 1.75 ]\n",
    "                                  [        ]\n",
    "                                  [  0.0   ]"
   ]
  },
  {
   "cell_type": "markdown",
   "metadata": {},
   "source": [
    "# --Gauss Jacobi & Gauss seidel--"
   ]
  },
  {
   "cell_type": "code",
   "execution_count": 2,
   "metadata": {},
   "outputs": [],
   "source": [
    "matrix = [[3,1,1,7],[1,4,2,4],[0,2,5,5]]"
   ]
  },
  {
   "cell_type": "markdown",
   "metadata": {},
   "source": [
    "## Criterio de convergência\n",
    "Esta matriz converge, pois os elementos (i,i) de cada linha são maiores do que a soma dos quocientes dos outros elementos. \n",
    "Por exemplo, para a primeira linha temos (1,1) = 3 e 3 > (1+1)."
   ]
  },
  {
   "cell_type": "markdown",
   "metadata": {},
   "source": [
    "## Isolando variáveis"
   ]
  },
  {
   "cell_type": "code",
   "execution_count": 18,
   "metadata": {},
   "outputs": [],
   "source": [
    "def vx(x,y,z):\n",
    "    return (7 - y -z)/3 \n",
    "def vy(x,y,z):\n",
    "    return (4-x-2*z)/4\n",
    "def vz(x,y,z):\n",
    "    return (5-2*y)/5"
   ]
  },
  {
   "cell_type": "markdown",
   "metadata": {},
   "source": [
    "## Aplicando jacobi"
   ]
  },
  {
   "cell_type": "code",
   "execution_count": 20,
   "metadata": {},
   "outputs": [
    {
     "name": "stdout",
     "output_type": "stream",
     "text": [
      "0 || X = 1.00000 || Y = 1.00000 || Z = 1.00000\n",
      "1 || X = 1.66667 || Y = 0.25000 || Z = 0.60000\n",
      "2 || X = 2.05000 || Y = 0.28333 || Z = 0.90000\n",
      "3 || X = 1.93889 || Y = 0.03750 || Z = 0.88667\n",
      "4 || X = 2.02528 || Y = 0.07194 || Z = 0.98500\n",
      "5 || X = 1.98102 || Y = 0.00118 || Z = 0.97122\n",
      "6 || X = 2.00920 || Y = 0.01913 || Z = 0.99953\n",
      "7 || X = 1.99378 || Y = -0.00206 || Z = 0.99235\n",
      "8 || X = 2.00324 || Y = 0.00538 || Z = 1.00083\n",
      "9 || X = 1.99793 || Y = -0.00122 || Z = 0.99785\n",
      "10 || X = 2.00113 || Y = 0.00159 || Z = 1.00049\n",
      "11 || X = 1.99931 || Y = -0.00053 || Z = 0.99936\n",
      "12 || X = 2.00039 || Y = 0.00049 || Z = 1.00021\n",
      "13 || X = 1.99977 || Y = -0.00020 || Z = 0.99980\n",
      "14 || X = 2.00013 || Y = 0.00016 || Z = 1.00008\n",
      "15 || X = 1.99992 || Y = -0.00007 || Z = 0.99994\n",
      "16 || X = 2.00005 || Y = 0.00005 || Z = 1.00003\n",
      "17 || X = 1.99997 || Y = -0.00003 || Z = 0.99998\n",
      "18 || X = 2.00002 || Y = 0.00002 || Z = 1.00001\n",
      "19 || X = 1.99999 || Y = -0.00001 || Z = 0.99999\n"
     ]
    }
   ],
   "source": [
    "def jacobi(x,y,z):\n",
    "    for i in range(20):\n",
    "        print(\"%i || X = %.5f || Y = %.5f || Z = %.5f\" %(i,x,y,z))\n",
    "        xn = vx(x,y,z)\n",
    "        yn = vy(x,y,z)\n",
    "        zn = vz(x,y,z)\n",
    "        x = xn \n",
    "        y = yn \n",
    "        z = zn\n",
    "jacobi(1,1,1)"
   ]
  },
  {
   "cell_type": "markdown",
   "metadata": {},
   "source": [
    "## Aplicando Seidel"
   ]
  },
  {
   "cell_type": "code",
   "execution_count": 22,
   "metadata": {},
   "outputs": [
    {
     "name": "stdout",
     "output_type": "stream",
     "text": [
      "0 || X = 1.00000 || Y = 1.00000 || Z = 1.00000\n",
      "1 || X = 1.66667 || Y = 0.08333 || Z = 0.96667\n",
      "2 || X = 1.98333 || Y = 0.02083 || Z = 0.99167\n",
      "3 || X = 1.99583 || Y = 0.00521 || Z = 0.99792\n",
      "4 || X = 1.99896 || Y = 0.00130 || Z = 0.99948\n",
      "5 || X = 1.99974 || Y = 0.00033 || Z = 0.99987\n",
      "6 || X = 1.99993 || Y = 0.00008 || Z = 0.99997\n",
      "7 || X = 1.99998 || Y = 0.00002 || Z = 0.99999\n",
      "8 || X = 2.00000 || Y = 0.00001 || Z = 1.00000\n",
      "9 || X = 2.00000 || Y = 0.00000 || Z = 1.00000\n"
     ]
    }
   ],
   "source": [
    "def seidel(x,y,z):\n",
    "    for i in range(10):\n",
    "        print(\"%i || X = %.5f || Y = %.5f || Z = %.5f\" %(i,x,y,z))\n",
    "        x = vx(x,y,z)\n",
    "        y = vy(x,y,z)\n",
    "        z = vz(x,y,z)\n",
    "seidel(1,1,1)"
   ]
  },
  {
   "cell_type": "markdown",
   "metadata": {},
   "source": [
    "# --Quadratura-- "
   ]
  },
  {
   "cell_type": "code",
   "execution_count": 23,
   "metadata": {},
   "outputs": [],
   "source": [
    "def f(x):\n",
    "    return m.sin(x)/x**2"
   ]
  },
  {
   "cell_type": "markdown",
   "metadata": {},
   "source": [
    "## Trapézio"
   ]
  },
  {
   "cell_type": "code",
   "execution_count": 30,
   "metadata": {},
   "outputs": [],
   "source": [
    "def trapezio(a,b,n):\n",
    "    total = 0\n",
    "    h = abs(a-b)/n\n",
    "    for i in range(1,n):\n",
    "        total+=2*f(a+i*h)\n",
    "    total+= f(a) + f(b)\n",
    "    total*= h/2\n",
    "    print(\"TOTAL = %.5f\" %total)\n",
    "    return total"
   ]
  },
  {
   "cell_type": "code",
   "execution_count": 27,
   "metadata": {},
   "outputs": [
    {
     "name": "stdout",
     "output_type": "stream",
     "text": [
      "TOTAL = 0.24359\n"
     ]
    }
   ],
   "source": [
    "trapezio(m.pi/2, m.pi, 4)"
   ]
  },
  {
   "cell_type": "markdown",
   "metadata": {},
   "source": [
    "### Quoeficiente & erro trapézio"
   ]
  },
  {
   "cell_type": "code",
   "execution_count": 34,
   "metadata": {},
   "outputs": [
    {
     "name": "stdout",
     "output_type": "stream",
     "text": [
      "TOTAL = 0.24359\n",
      "TOTAL = 0.23962\n",
      "TOTAL = 0.23862\n",
      "ERRO = -0.00033 || QUOEFICIENTE = 3.98039\n"
     ]
    }
   ],
   "source": [
    "r1 = trapezio(m.pi/2, m.pi, 4)\n",
    "r2 = trapezio(m.pi/2, m.pi, 8)\n",
    "r3 = trapezio(m.pi/2, m.pi, 16)\n",
    "quoeficiente = (r2-r1)/(r3-r2) #precisa ser próximo de 4\n",
    "erro = (r3-r2)/3\n",
    "print(\"ERRO = %.5f || QUOEFICIENTE = %.5f\" %(erro, quoeficiente))"
   ]
  },
  {
   "cell_type": "markdown",
   "metadata": {},
   "source": [
    "## Simpson"
   ]
  },
  {
   "cell_type": "code",
   "execution_count": 36,
   "metadata": {},
   "outputs": [
    {
     "name": "stdout",
     "output_type": "stream",
     "text": [
      "TOTAL = 0.23839\n"
     ]
    },
    {
     "data": {
      "text/plain": [
       "0.23838770551690475"
      ]
     },
     "execution_count": 36,
     "metadata": {},
     "output_type": "execute_result"
    }
   ],
   "source": [
    "def simpson(a,b,n): \n",
    "    h = abs(a-b)/n\n",
    "    total = 0\n",
    "    for i in range(1,n,2):\n",
    "        total+= 4*f(a+i*h)\n",
    "    for i in range(2,n,2):\n",
    "        total+= 2*f(a+i*h)\n",
    "    total+= f(a)+f(b)\n",
    "    total*=h/3\n",
    "    print(\"TOTAL = %.5f\" %total)\n",
    "    return total\n",
    "simpson(m.pi/2, m.pi,4)"
   ]
  },
  {
   "cell_type": "markdown",
   "metadata": {},
   "source": [
    "### Quoeficiente & erro trapézio"
   ]
  },
  {
   "cell_type": "code",
   "execution_count": 38,
   "metadata": {},
   "outputs": [
    {
     "name": "stdout",
     "output_type": "stream",
     "text": [
      "TOTAL = 0.23829\n",
      "TOTAL = 0.23829\n",
      "TOTAL = 0.23829\n",
      "ERRO = -0.00000 || QUOEFICIENTE = 15.51630\n"
     ]
    }
   ],
   "source": [
    "r1 = simpson(m.pi/2, m.pi, 8)\n",
    "r2 = simpson(m.pi/2, m.pi, 16)\n",
    "r3 = simpson(m.pi/2, m.pi, 32)\n",
    "quoeficiente = (r2-r1)/(r3-r2) #precisa ser próximo de 16\n",
    "erro = (r3-r2)/15\n",
    "print(\"ERRO = %.5f || QUOEFICIENTE = %.5f\" %(erro, quoeficiente))"
   ]
  },
  {
   "cell_type": "markdown",
   "metadata": {},
   "source": [
    "# --Equações diferenciais-- "
   ]
  },
  {
   "cell_type": "code",
   "execution_count": 39,
   "metadata": {},
   "outputs": [],
   "source": [
    "def dfy(x,y):\n",
    "    return x*x + y*y "
   ]
  },
  {
   "cell_type": "code",
   "execution_count": 55,
   "metadata": {},
   "outputs": [
    {
     "data": {
      "text/plain": [
       "1.1226140195627745"
      ]
     },
     "execution_count": 55,
     "metadata": {},
     "output_type": "execute_result"
    }
   ],
   "source": [
    "def rk2(x,y,h,b): \n",
    "    while(x < b-0.001):\n",
    "        y += h*dfy(x + h/2, y+h/2*dfy(x,y))\n",
    "        x += h\n",
    "    return y\n",
    "rk2(0,0,0.1,1.4)"
   ]
  },
  {
   "cell_type": "markdown",
   "metadata": {},
   "source": [
    "### Quociente e erro rk2"
   ]
  },
  {
   "cell_type": "code",
   "execution_count": 56,
   "metadata": {},
   "outputs": [
    {
     "name": "stdout",
     "output_type": "stream",
     "text": [
      "ERRO = 0.00070 || QUOCIENTE = 3.68631\n"
     ]
    }
   ],
   "source": [
    "r1 = rk2(0,0,0.1,1.4)\n",
    "r2 = rk2(0,0,0.1/2,1.4)\n",
    "r3 = rk2(0,0,0.1/4,1.4)\n",
    "quociente = (r2-r1)/(r3-r2)\n",
    "erro = (r3-r2)/3\n",
    "print(\"ERRO = %.5f || QUOCIENTE = %.5f\" %(erro, quociente))"
   ]
  },
  {
   "cell_type": "markdown",
   "metadata": {},
   "source": [
    "## RK4"
   ]
  },
  {
   "cell_type": "code",
   "execution_count": 54,
   "metadata": {},
   "outputs": [
    {
     "data": {
      "text/plain": [
       "1.1331276475762277"
      ]
     },
     "execution_count": 54,
     "metadata": {},
     "output_type": "execute_result"
    }
   ],
   "source": [
    "def rk4(x,y,h,b):\n",
    "    while(x < b-0.001):\n",
    "        delta1 = h*dfy(x,y)\n",
    "        delta2 = h*dfy(x + h/2, y + delta1/2)\n",
    "        delta3 = h*dfy(x + h/2, y + delta2/2)\n",
    "        delta4 = h*dfy(x + h, y + delta3)\n",
    "        yh = delta1/6 + delta2/3 + delta3/3 + delta4/6\n",
    "        y+= yh\n",
    "        x+= h\n",
    "    return y\n",
    "        \n",
    "rk4(0,0,0.1,1.4)"
   ]
  },
  {
   "cell_type": "markdown",
   "metadata": {},
   "source": [
    "### Quociente e erro rk4"
   ]
  },
  {
   "cell_type": "code",
   "execution_count": 51,
   "metadata": {},
   "outputs": [
    {
     "name": "stdout",
     "output_type": "stream",
     "text": [
      "ERRO = -0.00000 || QUOCIENTE = 14.79299\n"
     ]
    }
   ],
   "source": [
    "r1 = rk4(0,0,0.1/2,1.4)\n",
    "r2 = rk4(0,0,0.1/4,1.4)\n",
    "r3 = rk4(0,0,0.1/8,1.4)\n",
    "quociente = (r2-r1)/(r3-r2)\n",
    "erro = (r3-r2)/15\n",
    "print(\"ERRO = %.5f || QUOCIENTE = %.5f\" %(erro, quociente))\n",
    "#O passo adequado seria 0.05"
   ]
  },
  {
   "cell_type": "markdown",
   "metadata": {},
   "source": [
    "# --Sistema de equação diferencial de 1 ordem--"
   ]
  },
  {
   "cell_type": "code",
   "execution_count": 59,
   "metadata": {},
   "outputs": [],
   "source": [
    "def dfy(x,y,z):\n",
    "    return z*y + x\n",
    "def dfz(x,y,z):\n",
    "    return z*x + y"
   ]
  },
  {
   "cell_type": "code",
   "execution_count": 67,
   "metadata": {},
   "outputs": [
    {
     "data": {
      "text/plain": [
       "[0.5, 2.1437126994132996, 1.9010111490885415]"
      ]
     },
     "execution_count": 67,
     "metadata": {},
     "output_type": "execute_result"
    }
   ],
   "source": [
    "def rk4_sistema(x,y,z,h,b):\n",
    "    while (x < b -0.001): \n",
    "        delta1_y = h*dfy(x,y,z)\n",
    "        delta1_z = h*dfz(x,y,z) \n",
    "        delta2_y = h*dfy(x + h/2, y + delta1_y/2, z + delta1_z/2)\n",
    "        delta2_z = h*dfz(x + h/2, y + delta1_y/2, z + delta1_z/2)\n",
    "        delta3_y = h*dfy(x + h/2, y + delta2_y/2, z + delta2_z/2)\n",
    "        delta3_z = h*dfz(x + h/2, y + delta2_y/2, z + delta2_z/2)\n",
    "        delta4_y = h*dfy(x + h, y + delta3_y, z + delta3_z)\n",
    "        delta4_z = h*dfz(x + h, y + delta3_y, z + delta3_z)\n",
    "        yh = delta1_y/6 + delta2_y/3 + delta3_y/3 + delta4_y/6\n",
    "        zh = delta1_z/6 + delta2_z/3 + delta3_z/3 + delta4_z/6\n",
    "        y+= yh\n",
    "        z+= zh\n",
    "        x+= h\n",
    "    return [x,y,z]\n",
    "rk4_sistema(0,1,1,0.5,0.5)"
   ]
  },
  {
   "cell_type": "markdown",
   "metadata": {},
   "source": [
    "## Calculando erro e quociente"
   ]
  },
  {
   "cell_type": "code",
   "execution_count": 70,
   "metadata": {},
   "outputs": [
    {
     "name": "stdout",
     "output_type": "stream",
     "text": [
      "ERRO = -0.00000 || QUOCIENTE = 14.99605\n"
     ]
    }
   ],
   "source": [
    "#vamos calcular apenas para y\n",
    "r1 = rk4_sistema(0,0,0,0.5/4,0.5)[1]\n",
    "r2 = rk4_sistema(0,0,0,0.5/8,0.5)[1]\n",
    "r3 = rk4_sistema(0,0,0,0.5/16,0.5)[1]\n",
    "quociente = (r2-r1)/(r3-r2)\n",
    "erro = (r3-r2)/15\n",
    "print(\"ERRO = %.5f || QUOCIENTE = %.5f\" %(erro, quociente))\n",
    "#O passo adequado seria 0.5/4"
   ]
  },
  {
   "cell_type": "markdown",
   "metadata": {},
   "source": [
    "# --Equações diferenciais--"
   ]
  },
  {
   "cell_type": "code",
   "execution_count": 71,
   "metadata": {},
   "outputs": [],
   "source": [
    "def dfy(x,y,z):\n",
    "    return z\n",
    "def dfz(x,y,z):\n",
    "    return x - 3*z -2*y"
   ]
  },
  {
   "cell_type": "code",
   "execution_count": 76,
   "metadata": {},
   "outputs": [
    {
     "data": {
      "text/plain": [
       "[0.5, 0.013020833333333332, 0.08072916666666666]"
      ]
     },
     "execution_count": 76,
     "metadata": {},
     "output_type": "execute_result"
    }
   ],
   "source": [
    "def rk4(x,y,z,b,h):\n",
    "    while (x < b -0.001): \n",
    "        delta1_y = h*dfy(x,y,z)\n",
    "        delta1_z = h*dfz(x,y,z) \n",
    "        delta2_y = h*dfy(x + h/2, y + delta1_y/2, z + delta1_z/2)\n",
    "        delta2_z = h*dfz(x + h/2, y + delta1_y/2, z + delta1_z/2)\n",
    "        delta3_y = h*dfy(x + h/2, y + delta2_y/2, z + delta2_z/2)\n",
    "        delta3_z = h*dfz(x + h/2, y + delta2_y/2, z + delta2_z/2)\n",
    "        delta4_y = h*dfy(x + h, y + delta3_y, z + delta3_z)\n",
    "        delta4_z = h*dfz(x + h, y + delta3_y, z + delta3_z)\n",
    "        yh = delta1_y/6 + delta2_y/3 + delta3_y/3 + delta4_y/6\n",
    "        zh = delta1_z/6 + delta2_z/3 + delta3_z/3 + delta4_z/6\n",
    "        y+= yh\n",
    "        z+= zh\n",
    "        x+= h\n",
    "    return y\n",
    "rk4_sistema(0,0,0,0.5,0.05)"
   ]
  },
  {
   "cell_type": "markdown",
   "metadata": {},
   "source": [
    "## Erro e quociente RK4"
   ]
  },
  {
   "cell_type": "code",
   "execution_count": 86,
   "metadata": {},
   "outputs": [
    {
     "name": "stdout",
     "output_type": "stream",
     "text": [
      "ERRO = 0.00000 || QUOCIENTE = 16.19560\n"
     ]
    }
   ],
   "source": [
    "r1 = rk4(0,0,0,0.5,0.05/4)\n",
    "r2 = rk4(0,0,0,0.5,0.05/8)\n",
    "r3 = rk4(0,0,0,0.5,0.05/16)\n",
    "quociente = (r2-r1)/(r3-r2)\n",
    "erro = (r3-r2)/15\n",
    "print(\"ERRO = %.5f || QUOCIENTE = %.5f\" %(erro, quociente))"
   ]
  },
  {
   "cell_type": "code",
   "execution_count": null,
   "metadata": {},
   "outputs": [],
   "source": []
  }
 ],
 "metadata": {
  "kernelspec": {
   "display_name": "Python 3",
   "language": "python",
   "name": "python3"
  },
  "language_info": {
   "codemirror_mode": {
    "name": "ipython",
    "version": 3
   },
   "file_extension": ".py",
   "mimetype": "text/x-python",
   "name": "python",
   "nbconvert_exporter": "python",
   "pygments_lexer": "ipython3",
   "version": "3.7.4"
  }
 },
 "nbformat": 4,
 "nbformat_minor": 2
}
