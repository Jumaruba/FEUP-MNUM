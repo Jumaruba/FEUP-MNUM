{
 "cells": [
  {
   "cell_type": "code",
   "execution_count": 1,
   "metadata": {},
   "outputs": [],
   "source": [
    "import math as m"
   ]
  },
  {
   "cell_type": "code",
   "execution_count": 2,
   "metadata": {},
   "outputs": [],
   "source": [
    "def dc(t,T,c):\n",
    "    return -m.exp(-0.5/(T+273))*c\n",
    "def dT(t,T,c):\n",
    "    return 30*m.exp(-0.5/(T+273))*c - 0.5*(T-20)"
   ]
  },
  {
   "cell_type": "code",
   "execution_count": 11,
   "metadata": {},
   "outputs": [],
   "source": [
    "def euler(b,t,T,c,h):\n",
    "    while(t < b-0.001):\n",
    "        cn = c + h*dc(t,T,c)\n",
    "        Tn = T + h*dT(t,T,c)\n",
    "        t+= h\n",
    "        c = cn \n",
    "        T = Tn\n",
    "    return [c, T, t]"
   ]
  },
  {
   "cell_type": "code",
   "execution_count": 12,
   "metadata": {},
   "outputs": [
    {
     "data": {
      "text/plain": [
       "[1.4077771352306252, 54.254990112319504, 0.5]"
      ]
     },
     "execution_count": 12,
     "metadata": {},
     "output_type": "execute_result"
    }
   ],
   "source": [
    "euler(0.5,0,25,2.5,0.25)"
   ]
  },
  {
   "cell_type": "code",
   "execution_count": 17,
   "metadata": {},
   "outputs": [],
   "source": [
    "def rk4(b,t,T,c,h):\n",
    "    while(t < b-0.001):\n",
    "        delta1_c = h*dc(t,T,c)\n",
    "        delta1_T = h*dT(t,T,c)\n",
    "        \n",
    "        delta2_c = h*dc(t + h/2, T + delta1_T/2, c+ delta1_c/2)\n",
    "        delta2_T = h*dT(t + h/2, T + delta1_T/2, c+ delta1_c/2)\n",
    "        \n",
    "        delta3_c = h*dc(t + h/2, T + delta2_T/2, c+ delta2_c/2)\n",
    "        delta3_T = h*dT(t + h/2, T + delta2_T/2, c+ delta2_c/2)\n",
    "        \n",
    "        delta4_c = h*dc(t + h, T + delta3_T, c + delta3_c)\n",
    "        delta4_T = h*dT(t + h, T + delta3_T, c + delta3_c)\n",
    "        \n",
    "        delta_c = delta1_c/6 + delta2_c/3 + delta3_c/3 + delta4_c/6\n",
    "        delta_T = delta1_T/6 + delta2_T/3 + delta3_T/3 + delta4_T/6\n",
    "        \n",
    "        c += delta_c \n",
    "        T += delta_T \n",
    "        t += h\n",
    "    return [c, T, t]"
   ]
  },
  {
   "cell_type": "code",
   "execution_count": 18,
   "metadata": {},
   "outputs": [
    {
     "data": {
      "text/plain": [
       "[1.5175716636521417, 49.70136047147742, 0.5]"
      ]
     },
     "execution_count": 18,
     "metadata": {},
     "output_type": "execute_result"
    }
   ],
   "source": [
    "rk4(0.5,0,25,2.5,0.25)"
   ]
  },
  {
   "cell_type": "markdown",
   "metadata": {},
   "source": [
    "# Erro e quociente euler"
   ]
  },
  {
   "cell_type": "code",
   "execution_count": 19,
   "metadata": {},
   "outputs": [],
   "source": [
    "r1 = euler(0.5,0,25,2.5,0.25)[1]\n",
    "r2 = euler(0.5,0,25,2.5,0.25/2)[1]\n",
    "r3 = euler(0.5,0,25,2.5,0.25/4)[1]\n",
    "\n",
    "erro = (r3-r2)\n",
    "quociente = (r2-r1)/(r3-r2)"
   ]
  },
  {
   "cell_type": "code",
   "execution_count": 20,
   "metadata": {},
   "outputs": [
    {
     "name": "stdout",
     "output_type": "stream",
     "text": [
      "ERRO = -1.07861 || QUOCIENTE = 2.30325\n"
     ]
    }
   ],
   "source": [
    "print(\"ERRO = %.5f || QUOCIENTE = %.5f\" %(erro,quociente))"
   ]
  },
  {
   "cell_type": "code",
   "execution_count": 21,
   "metadata": {},
   "outputs": [
    {
     "name": "stdout",
     "output_type": "stream",
     "text": [
      "R1 = 54.25499 || R2 = 51.77067 || R3 = 50.69205\n"
     ]
    }
   ],
   "source": [
    "print(\"R1 = %.5f || R2 = %.5f || R3 = %.5f\" %(r1,r2,r3))"
   ]
  },
  {
   "cell_type": "code",
   "execution_count": null,
   "metadata": {},
   "outputs": [],
   "source": []
  }
 ],
 "metadata": {
  "kernelspec": {
   "display_name": "Python 3",
   "language": "python",
   "name": "python3"
  },
  "language_info": {
   "codemirror_mode": {
    "name": "ipython",
    "version": 3
   },
   "file_extension": ".py",
   "mimetype": "text/x-python",
   "name": "python",
   "nbconvert_exporter": "python",
   "pygments_lexer": "ipython3",
   "version": "3.7.4"
  }
 },
 "nbformat": 4,
 "nbformat_minor": 2
}
