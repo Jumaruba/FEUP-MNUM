{
 "cells": [
  {
   "cell_type": "code",
   "execution_count": 1,
   "metadata": {},
   "outputs": [],
   "source": [
    "import math as m"
   ]
  },
  {
   "cell_type": "code",
   "execution_count": 21,
   "metadata": {},
   "outputs": [],
   "source": [
    "def l(x):\n",
    "    return m.sqrt(1+ (2.5*m.exp(2.5*x))**2)"
   ]
  },
  {
   "cell_type": "code",
   "execution_count": 22,
   "metadata": {},
   "outputs": [],
   "source": [
    "def trapezio(a,b,h):\n",
    "    n = round(abs(a-b)/h)\n",
    "    total = 0\n",
    "    for i in range(1,n):\n",
    "        total+= 2*l(a+i*h)\n",
    "    total += l(a) + l(b)\n",
    "    total *= h/2 \n",
    "    return total"
   ]
  },
  {
   "cell_type": "code",
   "execution_count": 23,
   "metadata": {},
   "outputs": [
    {
     "data": {
      "text/plain": [
       "11.346293007012978"
      ]
     },
     "execution_count": 23,
     "metadata": {},
     "output_type": "execute_result"
    }
   ],
   "source": [
    "trapezio(0,1,0.125)"
   ]
  },
  {
   "cell_type": "code",
   "execution_count": 27,
   "metadata": {},
   "outputs": [],
   "source": [
    "def simpson(a,b,h): \n",
    "    n = round(abs(a-b)/h)\n",
    "    total = 0\n",
    "    for i in range(1,n,2):\n",
    "        total+= 4*l(a+i*h)\n",
    "    for i in range(2,n,2):\n",
    "        total+= 2*l(a+i*h)\n",
    "    total += l(a) + l(b)\n",
    "    total *= h/3\n",
    "    return total"
   ]
  },
  {
   "cell_type": "code",
   "execution_count": 28,
   "metadata": {},
   "outputs": [
    {
     "data": {
      "text/plain": [
       "11.255495338328446"
      ]
     },
     "execution_count": 28,
     "metadata": {},
     "output_type": "execute_result"
    }
   ],
   "source": [
    "simpson(0,1,0.125)"
   ]
  },
  {
   "cell_type": "code",
   "execution_count": 29,
   "metadata": {},
   "outputs": [
    {
     "name": "stdout",
     "output_type": "stream",
     "text": [
      "TRAPEZIO\n",
      "R1 = 11.34629 || R2 = 11.27778 || R3 = 11.26063 || QUOCIENTE = 3.99394 || ERRO = -0.01715\n"
     ]
    }
   ],
   "source": [
    "#TRAPEZIO\n",
    "r1 = trapezio(0,1,0.125)\n",
    "r2 = trapezio(0,1,0.125/2)\n",
    "r3 = trapezio(0,1,0.125/4)\n",
    "quociente = (r2-r1)/(r3-r2)\n",
    "erro = (r3-r2)\n",
    "print(\"TRAPEZIO\")\n",
    "print(\"R1 = %.5f || R2 = %.5f || R3 = %.5f || QUOCIENTE = %.5f || ERRO = %.5f\" %(r1,r2,r3,quociente,erro))"
   ]
  },
  {
   "cell_type": "code",
   "execution_count": 8,
   "metadata": {},
   "outputs": [
    {
     "name": "stdout",
     "output_type": "stream",
     "text": [
      "SIMPSON\n",
      "R1 = 2.25217 || R2 = 2.25217 || R3 = 2.25217 || QUOCIENTE = 15.93681 || ERRO = -0.00000\n"
     ]
    }
   ],
   "source": [
    "#SIMPSON\n",
    "r1 = simpson(0,1,0.125)\n",
    "r2 = simpson(0,1,0.125/2)\n",
    "r3 = simpson(0,1,0.125/4)\n",
    "quociente = (r2-r1)/(r3-r2)\n",
    "erro = (r3-r2)\n",
    "print(\"SIMPSON\")\n",
    "print(\"R1 = %.5f || R2 = %.5f || R3 = %.5f || QUOCIENTE = %.5f || ERRO = %.5f\" %(r1,r2,r3,quociente,erro))"
   ]
  },
  {
   "cell_type": "code",
   "execution_count": null,
   "metadata": {},
   "outputs": [],
   "source": []
  }
 ],
 "metadata": {
  "kernelspec": {
   "display_name": "Python 3",
   "language": "python",
   "name": "python3"
  },
  "language_info": {
   "codemirror_mode": {
    "name": "ipython",
    "version": 3
   },
   "file_extension": ".py",
   "mimetype": "text/x-python",
   "name": "python",
   "nbconvert_exporter": "python",
   "pygments_lexer": "ipython3",
   "version": "3.7.4"
  }
 },
 "nbformat": 4,
 "nbformat_minor": 2
}
