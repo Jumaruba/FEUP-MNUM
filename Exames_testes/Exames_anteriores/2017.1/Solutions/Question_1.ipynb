{
 "cells": [
  {
   "cell_type": "markdown",
   "metadata": {},
   "source": [
    "# Áurea"
   ]
  },
  {
   "cell_type": "code",
   "execution_count": 1,
   "metadata": {},
   "outputs": [],
   "source": [
    "import math as m"
   ]
  },
  {
   "cell_type": "code",
   "execution_count": 3,
   "metadata": {},
   "outputs": [],
   "source": [
    "a = 5\n",
    "def f(x):\n",
    "    return (x-a)**2+x**4"
   ]
  },
  {
   "cell_type": "code",
   "execution_count": 16,
   "metadata": {},
   "outputs": [],
   "source": [
    "def aurea(x1,x2):\n",
    "    b = (m.sqrt(5) - 1) / 2\n",
    "    a = b * b\n",
    "    x3 = x1 + a * (x2 - x1)\n",
    "    x4 = x1 + b * (x2 - x1)\n",
    "    for i in range(30):\n",
    "        if f(x3) < f(x4):\n",
    "            x2 = x4\n",
    "            x4 = x3\n",
    "            x3 = x1 + a * (x2 - x1)\n",
    "        else:\n",
    "            x1 = x3 \n",
    "            x3 = x4\n",
    "            x4 = x1 + b * (x2 - x1)\n",
    "    return [x1, x2, x3, x4]\n",
    "    "
   ]
  },
  {
   "cell_type": "code",
   "execution_count": 17,
   "metadata": {},
   "outputs": [
    {
     "data": {
      "text/plain": [
       "[1.2347724960534925,\n",
       " 1.2347730335439921,\n",
       " 1.2347727013565948,\n",
       " 1.2347728282408899]"
      ]
     },
     "execution_count": 17,
     "metadata": {},
     "output_type": "execute_result"
    }
   ],
   "source": [
    "aurea(1,2)"
   ]
  },
  {
   "cell_type": "code",
   "execution_count": null,
   "metadata": {},
   "outputs": [],
   "source": []
  }
 ],
 "metadata": {
  "kernelspec": {
   "display_name": "Python 3",
   "language": "python",
   "name": "python3"
  },
  "language_info": {
   "codemirror_mode": {
    "name": "ipython",
    "version": 3
   },
   "file_extension": ".py",
   "mimetype": "text/x-python",
   "name": "python",
   "nbconvert_exporter": "python",
   "pygments_lexer": "ipython3",
   "version": "3.7.4"
  }
 },
 "nbformat": 4,
 "nbformat_minor": 2
}
