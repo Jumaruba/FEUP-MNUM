{
 "cells": [
  {
   "cell_type": "code",
   "execution_count": 1,
   "metadata": {},
   "outputs": [],
   "source": [
    "import math as m"
   ]
  },
  {
   "cell_type": "code",
   "execution_count": 3,
   "metadata": {},
   "outputs": [],
   "source": [
    "def w(x,y): \n",
    "    return -1.1*x*y+ 12*y + 7*x**2 -8*x\n",
    "def dwx(x,y): \n",
    "    return -1.1*y + 14*x -8 \n",
    "def dwy(x,y):\n",
    "    return -1.1*x + 12"
   ]
  },
  {
   "cell_type": "code",
   "execution_count": 12,
   "metadata": {},
   "outputs": [],
   "source": [
    "def gradient(x,y,h):\n",
    "    for i in range(1): \n",
    "        print(\"%i || X = %.5f || Y = %.5f\" %(i,x,y))\n",
    "        xn = x - h*dwx(x,y)\n",
    "        yn = y - h*dwy(x,y)\n",
    "        if w(xn,yn) < w(x,y):\n",
    "            h*= 2\n",
    "            x = xn \n",
    "            y = yn\n",
    "        else:\n",
    "            h/=2\n",
    "        \n",
    "    return [x,y]"
   ]
  },
  {
   "cell_type": "code",
   "execution_count": 13,
   "metadata": {
    "scrolled": true
   },
   "outputs": [
    {
     "name": "stdout",
     "output_type": "stream",
     "text": [
      "0 || X = 3.00000 || Y = 1.00000\n",
      "0 || X = 3.00000 || Y = 1.00000\n"
     ]
    },
    {
     "data": {
      "text/plain": [
       "4.5101700000000005"
      ]
     },
     "execution_count": 13,
     "metadata": {},
     "output_type": "execute_result"
    }
   ],
   "source": [
    "w(gradient(3,1,0.1)[0], gradient(3,1,0.1)[1])"
   ]
  },
  {
   "cell_type": "code",
   "execution_count": null,
   "metadata": {},
   "outputs": [],
   "source": [
    "    "
   ]
  }
 ],
 "metadata": {
  "kernelspec": {
   "display_name": "Python 3",
   "language": "python",
   "name": "python3"
  },
  "language_info": {
   "codemirror_mode": {
    "name": "ipython",
    "version": 3
   },
   "file_extension": ".py",
   "mimetype": "text/x-python",
   "name": "python",
   "nbconvert_exporter": "python",
   "pygments_lexer": "ipython3",
   "version": "3.7.4"
  }
 },
 "nbformat": 4,
 "nbformat_minor": 2
}
