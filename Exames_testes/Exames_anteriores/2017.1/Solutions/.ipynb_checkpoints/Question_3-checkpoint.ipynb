{
 "cells": [
  {
   "cell_type": "code",
   "execution_count": 32,
   "metadata": {},
   "outputs": [],
   "source": [
    "#isolando as raízes temos um intervalo entre  [-6,-4] e [1,3]\n",
    "import math as m"
   ]
  },
  {
   "cell_type": "code",
   "execution_count": 29,
   "metadata": {},
   "outputs": [],
   "source": [
    "def f1(x):\n",
    "    return m.exp(x)-5\n",
    "def f2(x):\n",
    "    return m.log(5+x)\n",
    "def df2(x):\n",
    "    return 1/(x+5)"
   ]
  },
  {
   "cell_type": "code",
   "execution_count": 24,
   "metadata": {},
   "outputs": [],
   "source": [
    "def picardPeano1(x1,x2):\n",
    "    for i in range(7):\n",
    "        x1 = f1(x1)\n",
    "        x2 = f2(x2)\n",
    "        print(\"%i ||X1 = %.5f || X2 = %.5f\" %(i,x1,x2))\n",
    "    return [x1,x2]"
   ]
  },
  {
   "cell_type": "code",
   "execution_count": 25,
   "metadata": {},
   "outputs": [
    {
     "name": "stdout",
     "output_type": "stream",
     "text": [
      "0 ||X1 = -4.99752 || X2 = 2.07944\n",
      "1 ||X1 = -4.99325 || X2 = 1.95720\n",
      "2 ||X1 = -4.99322 || X2 = 1.93978\n",
      "3 ||X1 = -4.99322 || X2 = 1.93727\n",
      "4 ||X1 = -4.99322 || X2 = 1.93691\n",
      "5 ||X1 = -4.99322 || X2 = 1.93686\n",
      "6 ||X1 = -4.99322 || X2 = 1.93685\n"
     ]
    },
    {
     "data": {
      "text/plain": [
       "[-4.993216188647904, 1.936848671839079]"
      ]
     },
     "execution_count": 25,
     "metadata": {},
     "output_type": "execute_result"
    }
   ],
   "source": [
    "picardPeano1(-6,3)"
   ]
  },
  {
   "cell_type": "code",
   "execution_count": 44,
   "metadata": {},
   "outputs": [],
   "source": [
    "def newton(x2): \n",
    "    for i in range(4):\n",
    "        x2 = x2 - f2(x2)/df2(x2)\n",
    "        print(\"%i || X2 = %.5f\" %(i,x2))\n",
    "    return x2"
   ]
  },
  {
   "cell_type": "code",
   "execution_count": 45,
   "metadata": {},
   "outputs": [
    {
     "name": "stdout",
     "output_type": "stream",
     "text": [
      "0 || X2 = -4.38629\n",
      "1 || X2 = -4.08666\n",
      "2 || X2 = -4.00387\n",
      "3 || X2 = -4.00001\n"
     ]
    },
    {
     "data": {
      "text/plain": [
       "-4.000007491525162"
      ]
     },
     "execution_count": 45,
     "metadata": {},
     "output_type": "execute_result"
    }
   ],
   "source": [
    "newton(-3)"
   ]
  },
  {
   "cell_type": "code",
   "execution_count": null,
   "metadata": {},
   "outputs": [],
   "source": []
  }
 ],
 "metadata": {
  "kernelspec": {
   "display_name": "Python 3",
   "language": "python",
   "name": "python3"
  },
  "language_info": {
   "codemirror_mode": {
    "name": "ipython",
    "version": 3
   },
   "file_extension": ".py",
   "mimetype": "text/x-python",
   "name": "python",
   "nbconvert_exporter": "python",
   "pygments_lexer": "ipython3",
   "version": "3.7.4"
  }
 },
 "nbformat": 4,
 "nbformat_minor": 2
}
