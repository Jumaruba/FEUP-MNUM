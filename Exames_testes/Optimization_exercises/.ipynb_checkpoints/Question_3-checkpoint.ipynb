{
 "cells": [
  {
   "cell_type": "code",
   "execution_count": 1,
   "metadata": {},
   "outputs": [],
   "source": [
    "import math as m\n"
   ]
  },
  {
   "cell_type": "code",
   "execution_count": 2,
   "metadata": {},
   "outputs": [],
   "source": [
    "def f(x,y):\n",
    "    return m.sin(y) + y**2/4 + m.cos(x) + x**2 -1 \n",
    "def dfx(x,y): \n",
    "    return 2*x - m.sin(x)\n",
    "def dfy(x,y):\n",
    "    return m.cos(y) + y/2\n",
    "def dfxx(x,y): \n",
    "    return 2 - m.cos(x)\n",
    "def dfyy(x,y):\n",
    "    return -m.sin(y) + 1/2 \n",
    "def dfxy(x,y): \n",
    "    return 0\n",
    "def dfyx(x,y):\n",
    "    return 0"
   ]
  },
  {
   "cell_type": "code",
   "execution_count": 7,
   "metadata": {},
   "outputs": [],
   "source": [
    "def quadrica(x,y):\n",
    "    for i in range(10):\n",
    "        print(\"%i || X = %.5f || Y = %.5f\" %(i,x,y))\n",
    "        det = dfyy(x,y)* dfxx(x,y) - dfxy(x,y)*dfyx(x,y)\n",
    "        xn = x - (dfyy(x,y)*dfx(x,y) - dfyx(x,y)*dfy(x,y))/det\n",
    "        yn = y - (-dfxy(x,y)*dfx(x,y) + dfxx(x,y)*dfy(x,y))/det\n",
    "        x = xn \n",
    "        y = yn\n",
    "    print(\"%i || X = %.5f || Y = %.5f\" %(i,x,y))"
   ]
  },
  {
   "cell_type": "code",
   "execution_count": 8,
   "metadata": {},
   "outputs": [
    {
     "name": "stdout",
     "output_type": "stream",
     "text": [
      "0 || X = 0.00000 || Y = 0.00000\n",
      "1 || X = 0.00000 || Y = -2.00000\n",
      "2 || X = 0.00000 || Y = -0.99514\n",
      "3 || X = 0.00000 || Y = -1.03011\n",
      "4 || X = 0.00000 || Y = -1.02987\n",
      "5 || X = 0.00000 || Y = -1.02987\n",
      "6 || X = 0.00000 || Y = -1.02987\n",
      "7 || X = 0.00000 || Y = -1.02987\n",
      "8 || X = 0.00000 || Y = -1.02987\n",
      "9 || X = 0.00000 || Y = -1.02987\n",
      "9 || X = 0.00000 || Y = -1.02987\n"
     ]
    }
   ],
   "source": [
    "quadrica(0,0)"
   ]
  },
  {
   "cell_type": "code",
   "execution_count": null,
   "metadata": {},
   "outputs": [],
   "source": []
  }
 ],
 "metadata": {
  "kernelspec": {
   "display_name": "Python 3",
   "language": "python",
   "name": "python3"
  },
  "language_info": {
   "codemirror_mode": {
    "name": "ipython",
    "version": 3
   },
   "file_extension": ".py",
   "mimetype": "text/x-python",
   "name": "python",
   "nbconvert_exporter": "python",
   "pygments_lexer": "ipython3",
   "version": "3.7.4"
  }
 },
 "nbformat": 4,
 "nbformat_minor": 2
}
