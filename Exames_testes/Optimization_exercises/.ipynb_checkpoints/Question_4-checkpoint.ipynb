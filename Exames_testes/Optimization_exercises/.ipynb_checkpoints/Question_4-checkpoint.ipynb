{
 "cells": [
  {
   "cell_type": "code",
   "execution_count": 1,
   "metadata": {},
   "outputs": [],
   "source": [
    "import math as m"
   ]
  },
  {
   "cell_type": "code",
   "execution_count": 15,
   "metadata": {},
   "outputs": [],
   "source": [
    "def f(x,y):\n",
    "    return y**2 + -2*x*y - 6*y + 2*x**2 + 12 \n",
    "def dfx(x,y):\n",
    "    return -2*y + 4*x\n",
    "def dfy(x,y):\n",
    "    return 2*y - 2*x- 6\n",
    "def dfxx(x,y):\n",
    "    return 4 \n",
    "def dfyy(x,y):\n",
    "    return 2 \n",
    "def dfxy(x,y):\n",
    "    return -2 \n",
    "def dfyx(x,y):\n",
    "    return -2 "
   ]
  },
  {
   "cell_type": "code",
   "execution_count": 20,
   "metadata": {},
   "outputs": [],
   "source": [
    "def levenberg(x,y,lamb):\n",
    "    for i in range(6):\n",
    "        print (\"%i || X = %.5f || Y = %.5f\" %(i,x,y))\n",
    "        det = dfyy(x,y)*dfxx(x,y) - dfxy(x,y)*dfyx(x,y)\n",
    "        xn = x - ((dfyy(x,y)*dfx(x,y) - dfyx(x,y)*dfy(x,y))/det - lamb*dfx(x,y))\n",
    "        yn = y - ((-dfxy(x,y)*dfx(x,y) + dfxx(x,y)*dfy(x,y))/det - lamb*dfy(x,y))\n",
    "        if f(xn,yn) < f(x,y):\n",
    "            lamb/=2\n",
    "        else:\n",
    "            lamb*=2\n",
    "        y = yn \n",
    "        x = xn \n",
    "    print (\"%i || X = %.5f || Y = %.5f\" %(i,x,y))\n",
    "    "
   ]
  },
  {
   "cell_type": "code",
   "execution_count": 21,
   "metadata": {},
   "outputs": [
    {
     "name": "stdout",
     "output_type": "stream",
     "text": [
      "0 || X = 1.00000 || Y = 1.00000\n",
      "1 || X = 3.20000 || Y = 5.40000\n",
      "2 || X = 3.10000 || Y = 5.92000\n",
      "3 || X = 3.01400 || Y = 5.99100\n",
      "4 || X = 3.00093 || Y = 5.99942\n",
      "5 || X = 3.00003 || Y = 5.99998\n",
      "5 || X = 3.00000 || Y = 6.00000\n"
     ]
    }
   ],
   "source": [
    "levenberg(1,1,0.1)"
   ]
  },
  {
   "cell_type": "code",
   "execution_count": null,
   "metadata": {},
   "outputs": [],
   "source": []
  }
 ],
 "metadata": {
  "kernelspec": {
   "display_name": "Python 3",
   "language": "python",
   "name": "python3"
  },
  "language_info": {
   "codemirror_mode": {
    "name": "ipython",
    "version": 3
   },
   "file_extension": ".py",
   "mimetype": "text/x-python",
   "name": "python",
   "nbconvert_exporter": "python",
   "pygments_lexer": "ipython3",
   "version": "3.7.4"
  }
 },
 "nbformat": 4,
 "nbformat_minor": 2
}
